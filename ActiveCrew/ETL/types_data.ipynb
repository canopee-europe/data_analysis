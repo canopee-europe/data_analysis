{
 "cells": [
  {
   "metadata": {
    "ExecuteTime": {
     "end_time": "2025-06-12T13:24:23.124321Z",
     "start_time": "2025-06-12T13:24:22.663075Z"
    }
   },
   "cell_type": "code",
   "source": [
    "from unittest.mock import inplace\n",
    "\n",
    "import pandas as pd\n",
    "import requests\n",
    "import config"
   ],
   "id": "cbe02cfa04bb8fd3",
   "outputs": [],
   "execution_count": 1
  },
  {
   "metadata": {},
   "cell_type": "markdown",
   "source": "## Extract",
   "id": "45be6539a4e62943"
  },
  {
   "metadata": {
    "ExecuteTime": {
     "end_time": "2025-06-12T13:26:34.145462Z",
     "start_time": "2025-06-12T13:26:33.850055Z"
    }
   },
   "cell_type": "code",
   "source": [
    "types_url = \"https://dashboard.activcreew.app/api/types?fields=name, description&populate[event_editions][fields]=id\"\n",
    "response_types = requests.get(types_url, headers=config.my_headers)\n",
    "response_types = response_types.json()[\"data\"]\n",
    "df_types = pd.DataFrame(response_types)\n",
    "df_types"
   ],
   "id": "initial_id",
   "outputs": [
    {
     "data": {
      "text/plain": [
       "   id                documentId       name            description  \\\n",
       "0   5  rgqk1gt5qyijeih2ftp3blhs  volunteer  Gestion des bénévoles   \n",
       "\n",
       "                                      event_editions  \n",
       "0  [{'id': 6, 'documentId': 'escwtfkm1a1sd0di8mrz...  "
      ],
      "text/html": [
       "<div>\n",
       "<style scoped>\n",
       "    .dataframe tbody tr th:only-of-type {\n",
       "        vertical-align: middle;\n",
       "    }\n",
       "\n",
       "    .dataframe tbody tr th {\n",
       "        vertical-align: top;\n",
       "    }\n",
       "\n",
       "    .dataframe thead th {\n",
       "        text-align: right;\n",
       "    }\n",
       "</style>\n",
       "<table border=\"1\" class=\"dataframe\">\n",
       "  <thead>\n",
       "    <tr style=\"text-align: right;\">\n",
       "      <th></th>\n",
       "      <th>id</th>\n",
       "      <th>documentId</th>\n",
       "      <th>name</th>\n",
       "      <th>description</th>\n",
       "      <th>event_editions</th>\n",
       "    </tr>\n",
       "  </thead>\n",
       "  <tbody>\n",
       "    <tr>\n",
       "      <th>0</th>\n",
       "      <td>5</td>\n",
       "      <td>rgqk1gt5qyijeih2ftp3blhs</td>\n",
       "      <td>volunteer</td>\n",
       "      <td>Gestion des bénévoles</td>\n",
       "      <td>[{'id': 6, 'documentId': 'escwtfkm1a1sd0di8mrz...</td>\n",
       "    </tr>\n",
       "  </tbody>\n",
       "</table>\n",
       "</div>"
      ]
     },
     "execution_count": 4,
     "metadata": {},
     "output_type": "execute_result"
    }
   ],
   "execution_count": 4
  },
  {
   "metadata": {
    "ExecuteTime": {
     "end_time": "2025-06-12T13:27:29.051902Z",
     "start_time": "2025-06-12T13:27:29.038605Z"
    }
   },
   "cell_type": "code",
   "source": [
    "df_types[\"event_edition_id\"] = df_types[\"event_editions\"].apply(lambda x: x[0][\"id\"])\n",
    "df_types"
   ],
   "id": "e9f49682edc14e59",
   "outputs": [
    {
     "data": {
      "text/plain": [
       "   id                documentId       name            description  \\\n",
       "0   5  rgqk1gt5qyijeih2ftp3blhs  volunteer  Gestion des bénévoles   \n",
       "\n",
       "                                      event_editions  event_edition_id  \n",
       "0  [{'id': 6, 'documentId': 'escwtfkm1a1sd0di8mrz...                 6  "
      ],
      "text/html": [
       "<div>\n",
       "<style scoped>\n",
       "    .dataframe tbody tr th:only-of-type {\n",
       "        vertical-align: middle;\n",
       "    }\n",
       "\n",
       "    .dataframe tbody tr th {\n",
       "        vertical-align: top;\n",
       "    }\n",
       "\n",
       "    .dataframe thead th {\n",
       "        text-align: right;\n",
       "    }\n",
       "</style>\n",
       "<table border=\"1\" class=\"dataframe\">\n",
       "  <thead>\n",
       "    <tr style=\"text-align: right;\">\n",
       "      <th></th>\n",
       "      <th>id</th>\n",
       "      <th>documentId</th>\n",
       "      <th>name</th>\n",
       "      <th>description</th>\n",
       "      <th>event_editions</th>\n",
       "      <th>event_edition_id</th>\n",
       "    </tr>\n",
       "  </thead>\n",
       "  <tbody>\n",
       "    <tr>\n",
       "      <th>0</th>\n",
       "      <td>5</td>\n",
       "      <td>rgqk1gt5qyijeih2ftp3blhs</td>\n",
       "      <td>volunteer</td>\n",
       "      <td>Gestion des bénévoles</td>\n",
       "      <td>[{'id': 6, 'documentId': 'escwtfkm1a1sd0di8mrz...</td>\n",
       "      <td>6</td>\n",
       "    </tr>\n",
       "  </tbody>\n",
       "</table>\n",
       "</div>"
      ]
     },
     "execution_count": 5,
     "metadata": {},
     "output_type": "execute_result"
    }
   ],
   "execution_count": 5
  },
  {
   "metadata": {},
   "cell_type": "markdown",
   "source": "## Transform",
   "id": "331a0ca779ee099f"
  },
  {
   "metadata": {
    "ExecuteTime": {
     "end_time": "2025-06-12T13:28:38.017281Z",
     "start_time": "2025-06-12T13:28:38.005508Z"
    }
   },
   "cell_type": "code",
   "source": [
    "df_types.drop(columns=['documentId', 'event_editions'], inplace=True)\n",
    "df_types"
   ],
   "id": "a826f0398ec95901",
   "outputs": [
    {
     "data": {
      "text/plain": [
       "   id       name            description  event_edition_id\n",
       "0   5  volunteer  Gestion des bénévoles                 6"
      ],
      "text/html": [
       "<div>\n",
       "<style scoped>\n",
       "    .dataframe tbody tr th:only-of-type {\n",
       "        vertical-align: middle;\n",
       "    }\n",
       "\n",
       "    .dataframe tbody tr th {\n",
       "        vertical-align: top;\n",
       "    }\n",
       "\n",
       "    .dataframe thead th {\n",
       "        text-align: right;\n",
       "    }\n",
       "</style>\n",
       "<table border=\"1\" class=\"dataframe\">\n",
       "  <thead>\n",
       "    <tr style=\"text-align: right;\">\n",
       "      <th></th>\n",
       "      <th>id</th>\n",
       "      <th>name</th>\n",
       "      <th>description</th>\n",
       "      <th>event_edition_id</th>\n",
       "    </tr>\n",
       "  </thead>\n",
       "  <tbody>\n",
       "    <tr>\n",
       "      <th>0</th>\n",
       "      <td>5</td>\n",
       "      <td>volunteer</td>\n",
       "      <td>Gestion des bénévoles</td>\n",
       "      <td>6</td>\n",
       "    </tr>\n",
       "  </tbody>\n",
       "</table>\n",
       "</div>"
      ]
     },
     "execution_count": 6,
     "metadata": {},
     "output_type": "execute_result"
    }
   ],
   "execution_count": 6
  },
  {
   "metadata": {},
   "cell_type": "markdown",
   "source": "## Load",
   "id": "59e060886876c5d2"
  },
  {
   "metadata": {
    "ExecuteTime": {
     "end_time": "2025-06-12T13:29:26.744218Z",
     "start_time": "2025-06-12T13:29:26.737315Z"
    }
   },
   "cell_type": "code",
   "source": "df_types.to_csv('csv_files/types_data.csv', index=False)",
   "id": "fb88d39b12331f26",
   "outputs": [],
   "execution_count": 7
  }
 ],
 "metadata": {
  "kernelspec": {
   "display_name": "Python 3",
   "language": "python",
   "name": "python3"
  },
  "language_info": {
   "codemirror_mode": {
    "name": "ipython",
    "version": 2
   },
   "file_extension": ".py",
   "mimetype": "text/x-python",
   "name": "python",
   "nbconvert_exporter": "python",
   "pygments_lexer": "ipython2",
   "version": "2.7.6"
  }
 },
 "nbformat": 4,
 "nbformat_minor": 5
}
