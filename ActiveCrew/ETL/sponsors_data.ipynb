{
 "cells": [
  {
   "cell_type": "code",
   "id": "initial_id",
   "metadata": {
    "collapsed": true,
    "ExecuteTime": {
     "end_time": "2025-06-09T10:31:57.134628Z",
     "start_time": "2025-06-09T10:31:56.706892Z"
    }
   },
   "source": [
    "import pandas as pd\n",
    "import requests\n",
    "import config"
   ],
   "outputs": [],
   "execution_count": 1
  },
  {
   "metadata": {},
   "cell_type": "markdown",
   "source": "## Extract",
   "id": "19e214c3240cbcc3"
  },
  {
   "metadata": {
    "ExecuteTime": {
     "end_time": "2025-06-09T13:17:38.201401Z",
     "start_time": "2025-06-09T13:17:37.600422Z"
    }
   },
   "cell_type": "code",
   "source": [
    "sponsor_url =\"https://dashboard.activcreew.app/api/sponsors?fields=id, name, description\"\n",
    "response_sponsor = requests.get(sponsor_url, headers=config.my_headers)\n",
    "sponsor_data = response_sponsor.json()[\"data\"]\n",
    "sponsor_df = pd.DataFrame(sponsor_data)\n",
    "sponsor_df"
   ],
   "id": "ac98e438f63e42f1",
   "outputs": [
    {
     "data": {
      "text/plain": [
       "Empty DataFrame\n",
       "Columns: []\n",
       "Index: []"
      ],
      "text/html": [
       "<div>\n",
       "<style scoped>\n",
       "    .dataframe tbody tr th:only-of-type {\n",
       "        vertical-align: middle;\n",
       "    }\n",
       "\n",
       "    .dataframe tbody tr th {\n",
       "        vertical-align: top;\n",
       "    }\n",
       "\n",
       "    .dataframe thead th {\n",
       "        text-align: right;\n",
       "    }\n",
       "</style>\n",
       "<table border=\"1\" class=\"dataframe\">\n",
       "  <thead>\n",
       "    <tr style=\"text-align: right;\">\n",
       "      <th></th>\n",
       "    </tr>\n",
       "  </thead>\n",
       "  <tbody>\n",
       "  </tbody>\n",
       "</table>\n",
       "</div>"
      ]
     },
     "execution_count": 3,
     "metadata": {},
     "output_type": "execute_result"
    }
   ],
   "execution_count": 3
  }
 ],
 "metadata": {
  "kernelspec": {
   "display_name": "Python 3",
   "language": "python",
   "name": "python3"
  },
  "language_info": {
   "codemirror_mode": {
    "name": "ipython",
    "version": 2
   },
   "file_extension": ".py",
   "mimetype": "text/x-python",
   "name": "python",
   "nbconvert_exporter": "python",
   "pygments_lexer": "ipython2",
   "version": "2.7.6"
  }
 },
 "nbformat": 4,
 "nbformat_minor": 5
}
