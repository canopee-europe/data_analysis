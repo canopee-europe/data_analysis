{
 "cells": [
  {
   "metadata": {
    "ExecuteTime": {
     "end_time": "2025-06-13T07:57:30.752427Z",
     "start_time": "2025-06-13T07:57:30.318562Z"
    }
   },
   "cell_type": "code",
   "source": [
    "import datetime\n",
    "from datetime import date\n",
    "import pandas as pd\n",
    "import requests\n",
    "import config"
   ],
   "id": "initial_id",
   "outputs": [],
   "execution_count": 2
  },
  {
   "metadata": {},
   "cell_type": "markdown",
   "source": "## Extract",
   "id": "92ecf2b7d9e57153"
  },
  {
   "metadata": {
    "ExecuteTime": {
     "end_time": "2025-06-13T07:57:32.851298Z",
     "start_time": "2025-06-13T07:57:32.316009Z"
    }
   },
   "cell_type": "code",
   "source": [
    "event_editions_url = \"https://dashboard.activcreew.app/api/event-editions?fields=name&populate[address][fields]=country,city&populate[event][fields]=id&populate[date_table][fields]=begin, end\"\n",
    "\n",
    "response_event_editions = requests.get(event_editions_url, headers=config.my_headers)\n",
    "event_editions_data = response_event_editions.json()[\"data\"]\n",
    "df_event_editions = pd.DataFrame(event_editions_data)\n",
    "df_event_editions"
   ],
   "id": "5caae717e70485ef",
   "outputs": [
    {
     "data": {
      "text/plain": [
       "   id                documentId                           name  \\\n",
       "0   6  escwtfkm1a1sd0di8mrzxgtk  Marathon du lac d'Annecy 2025   \n",
       "\n",
       "                                             address  \\\n",
       "0  {'id': 1222, 'documentId': 'fjho8gvecwprol9v0m...   \n",
       "\n",
       "                                               event  \\\n",
       "0  {'id': 6, 'documentId': 'h4e8nx3mnj9fmd22983hg...   \n",
       "\n",
       "                                          date_table  \n",
       "0  {'id': 481, 'documentId': 'ucvzbe5fj2nq0vzutl4...  "
      ],
      "text/html": [
       "<div>\n",
       "<style scoped>\n",
       "    .dataframe tbody tr th:only-of-type {\n",
       "        vertical-align: middle;\n",
       "    }\n",
       "\n",
       "    .dataframe tbody tr th {\n",
       "        vertical-align: top;\n",
       "    }\n",
       "\n",
       "    .dataframe thead th {\n",
       "        text-align: right;\n",
       "    }\n",
       "</style>\n",
       "<table border=\"1\" class=\"dataframe\">\n",
       "  <thead>\n",
       "    <tr style=\"text-align: right;\">\n",
       "      <th></th>\n",
       "      <th>id</th>\n",
       "      <th>documentId</th>\n",
       "      <th>name</th>\n",
       "      <th>address</th>\n",
       "      <th>event</th>\n",
       "      <th>date_table</th>\n",
       "    </tr>\n",
       "  </thead>\n",
       "  <tbody>\n",
       "    <tr>\n",
       "      <th>0</th>\n",
       "      <td>6</td>\n",
       "      <td>escwtfkm1a1sd0di8mrzxgtk</td>\n",
       "      <td>Marathon du lac d'Annecy 2025</td>\n",
       "      <td>{'id': 1222, 'documentId': 'fjho8gvecwprol9v0m...</td>\n",
       "      <td>{'id': 6, 'documentId': 'h4e8nx3mnj9fmd22983hg...</td>\n",
       "      <td>{'id': 481, 'documentId': 'ucvzbe5fj2nq0vzutl4...</td>\n",
       "    </tr>\n",
       "  </tbody>\n",
       "</table>\n",
       "</div>"
      ]
     },
     "execution_count": 3,
     "metadata": {},
     "output_type": "execute_result"
    }
   ],
   "execution_count": 3
  },
  {
   "metadata": {},
   "cell_type": "markdown",
   "source": "## Transform",
   "id": "f4369080fe1bf7c"
  },
  {
   "metadata": {
    "ExecuteTime": {
     "end_time": "2025-06-13T07:57:34.963256Z",
     "start_time": "2025-06-13T07:57:34.937528Z"
    }
   },
   "cell_type": "code",
   "source": [
    "# Get fields from columns dicts\n",
    "df_event_editions[\"country\"] = df_event_editions[\"address\"].apply(lambda x: x.get(\"country\"))\n",
    "df_event_editions[\"city\"] = df_event_editions[\"address\"].apply(lambda x: x.get(\"city\"))\n",
    "df_event_editions[\"event_id\"] = df_event_editions[\"event\"].apply(lambda x: x.get(\"id\"))\n",
    "df_event_editions[\"begin_event\"] = df_event_editions[\"date_table\"].apply(lambda x: x.get(\"begin\"))\n",
    "df_event_editions[\"end_event\"] = df_event_editions[\"date_table\"].apply(lambda x: x.get(\"end\"))\n",
    "df_event_editions"
   ],
   "id": "c9d18c2f798e5de6",
   "outputs": [
    {
     "data": {
      "text/plain": [
       "   id                documentId                           name  \\\n",
       "0   6  escwtfkm1a1sd0di8mrzxgtk  Marathon du lac d'Annecy 2025   \n",
       "\n",
       "                                             address  \\\n",
       "0  {'id': 1222, 'documentId': 'fjho8gvecwprol9v0m...   \n",
       "\n",
       "                                               event  \\\n",
       "0  {'id': 6, 'documentId': 'h4e8nx3mnj9fmd22983hg...   \n",
       "\n",
       "                                          date_table country    city  \\\n",
       "0  {'id': 481, 'documentId': 'ucvzbe5fj2nq0vzutl4...      FR  Annecy   \n",
       "\n",
       "   event_id               begin_event                 end_event  \n",
       "0         6  2025-04-25T03:00:00.000Z  2025-04-27T18:00:00.000Z  "
      ],
      "text/html": [
       "<div>\n",
       "<style scoped>\n",
       "    .dataframe tbody tr th:only-of-type {\n",
       "        vertical-align: middle;\n",
       "    }\n",
       "\n",
       "    .dataframe tbody tr th {\n",
       "        vertical-align: top;\n",
       "    }\n",
       "\n",
       "    .dataframe thead th {\n",
       "        text-align: right;\n",
       "    }\n",
       "</style>\n",
       "<table border=\"1\" class=\"dataframe\">\n",
       "  <thead>\n",
       "    <tr style=\"text-align: right;\">\n",
       "      <th></th>\n",
       "      <th>id</th>\n",
       "      <th>documentId</th>\n",
       "      <th>name</th>\n",
       "      <th>address</th>\n",
       "      <th>event</th>\n",
       "      <th>date_table</th>\n",
       "      <th>country</th>\n",
       "      <th>city</th>\n",
       "      <th>event_id</th>\n",
       "      <th>begin_event</th>\n",
       "      <th>end_event</th>\n",
       "    </tr>\n",
       "  </thead>\n",
       "  <tbody>\n",
       "    <tr>\n",
       "      <th>0</th>\n",
       "      <td>6</td>\n",
       "      <td>escwtfkm1a1sd0di8mrzxgtk</td>\n",
       "      <td>Marathon du lac d'Annecy 2025</td>\n",
       "      <td>{'id': 1222, 'documentId': 'fjho8gvecwprol9v0m...</td>\n",
       "      <td>{'id': 6, 'documentId': 'h4e8nx3mnj9fmd22983hg...</td>\n",
       "      <td>{'id': 481, 'documentId': 'ucvzbe5fj2nq0vzutl4...</td>\n",
       "      <td>FR</td>\n",
       "      <td>Annecy</td>\n",
       "      <td>6</td>\n",
       "      <td>2025-04-25T03:00:00.000Z</td>\n",
       "      <td>2025-04-27T18:00:00.000Z</td>\n",
       "    </tr>\n",
       "  </tbody>\n",
       "</table>\n",
       "</div>"
      ]
     },
     "execution_count": 4,
     "metadata": {},
     "output_type": "execute_result"
    }
   ],
   "execution_count": 4
  },
  {
   "metadata": {
    "ExecuteTime": {
     "end_time": "2025-06-13T07:57:37.596024Z",
     "start_time": "2025-06-13T07:57:37.577110Z"
    }
   },
   "cell_type": "code",
   "source": [
    "# Delete useless columns\n",
    "df_event_editions.drop(columns=[\"date_table\", 'documentId', 'address', 'event'], inplace=True)\n",
    "df_event_editions"
   ],
   "id": "f7c71cfea3c9a47a",
   "outputs": [
    {
     "data": {
      "text/plain": [
       "   id                           name country    city  event_id  \\\n",
       "0   6  Marathon du lac d'Annecy 2025      FR  Annecy         6   \n",
       "\n",
       "                begin_event                 end_event  \n",
       "0  2025-04-25T03:00:00.000Z  2025-04-27T18:00:00.000Z  "
      ],
      "text/html": [
       "<div>\n",
       "<style scoped>\n",
       "    .dataframe tbody tr th:only-of-type {\n",
       "        vertical-align: middle;\n",
       "    }\n",
       "\n",
       "    .dataframe tbody tr th {\n",
       "        vertical-align: top;\n",
       "    }\n",
       "\n",
       "    .dataframe thead th {\n",
       "        text-align: right;\n",
       "    }\n",
       "</style>\n",
       "<table border=\"1\" class=\"dataframe\">\n",
       "  <thead>\n",
       "    <tr style=\"text-align: right;\">\n",
       "      <th></th>\n",
       "      <th>id</th>\n",
       "      <th>name</th>\n",
       "      <th>country</th>\n",
       "      <th>city</th>\n",
       "      <th>event_id</th>\n",
       "      <th>begin_event</th>\n",
       "      <th>end_event</th>\n",
       "    </tr>\n",
       "  </thead>\n",
       "  <tbody>\n",
       "    <tr>\n",
       "      <th>0</th>\n",
       "      <td>6</td>\n",
       "      <td>Marathon du lac d'Annecy 2025</td>\n",
       "      <td>FR</td>\n",
       "      <td>Annecy</td>\n",
       "      <td>6</td>\n",
       "      <td>2025-04-25T03:00:00.000Z</td>\n",
       "      <td>2025-04-27T18:00:00.000Z</td>\n",
       "    </tr>\n",
       "  </tbody>\n",
       "</table>\n",
       "</div>"
      ]
     },
     "execution_count": 5,
     "metadata": {},
     "output_type": "execute_result"
    }
   ],
   "execution_count": 5
  },
  {
   "metadata": {
    "ExecuteTime": {
     "end_time": "2025-06-13T07:58:29.252843Z",
     "start_time": "2025-06-13T07:58:29.235227Z"
    }
   },
   "cell_type": "code",
   "source": [
    "# Convert dates to datetime and format output\n",
    "df_event_editions[\"begin_event\"] = pd.to_datetime(df_event_editions[\"begin_event\"])\n",
    "df_event_editions[\"end_event\"] = pd.to_datetime(df_event_editions[\"end_event\"])\n",
    "\n",
    "# Get year, month, number of days\n",
    "df_event_editions[\"year\"] = df_event_editions[\"begin_event\"].dt.year\n",
    "df_event_editions[\"month\"] = df_event_editions[\"begin_event\"].dt.month\n",
    "df_event_editions[\"number of days\"] = (df_event_editions[\"end_event\"] - df_event_editions[\"begin_event\"]).dt.days\n",
    "\n",
    "df_event_editions"
   ],
   "id": "f0454866f82cab36",
   "outputs": [
    {
     "data": {
      "text/plain": [
       "   id                           name country    city  event_id  \\\n",
       "0   6  Marathon du lac d'Annecy 2025      FR  Annecy         6   \n",
       "\n",
       "                begin_event                 end_event  year  month  \\\n",
       "0 2025-04-25 03:00:00+00:00 2025-04-27 18:00:00+00:00  2025      4   \n",
       "\n",
       "   number of days  \n",
       "0               2  "
      ],
      "text/html": [
       "<div>\n",
       "<style scoped>\n",
       "    .dataframe tbody tr th:only-of-type {\n",
       "        vertical-align: middle;\n",
       "    }\n",
       "\n",
       "    .dataframe tbody tr th {\n",
       "        vertical-align: top;\n",
       "    }\n",
       "\n",
       "    .dataframe thead th {\n",
       "        text-align: right;\n",
       "    }\n",
       "</style>\n",
       "<table border=\"1\" class=\"dataframe\">\n",
       "  <thead>\n",
       "    <tr style=\"text-align: right;\">\n",
       "      <th></th>\n",
       "      <th>id</th>\n",
       "      <th>name</th>\n",
       "      <th>country</th>\n",
       "      <th>city</th>\n",
       "      <th>event_id</th>\n",
       "      <th>begin_event</th>\n",
       "      <th>end_event</th>\n",
       "      <th>year</th>\n",
       "      <th>month</th>\n",
       "      <th>number of days</th>\n",
       "    </tr>\n",
       "  </thead>\n",
       "  <tbody>\n",
       "    <tr>\n",
       "      <th>0</th>\n",
       "      <td>6</td>\n",
       "      <td>Marathon du lac d'Annecy 2025</td>\n",
       "      <td>FR</td>\n",
       "      <td>Annecy</td>\n",
       "      <td>6</td>\n",
       "      <td>2025-04-25 03:00:00+00:00</td>\n",
       "      <td>2025-04-27 18:00:00+00:00</td>\n",
       "      <td>2025</td>\n",
       "      <td>4</td>\n",
       "      <td>2</td>\n",
       "    </tr>\n",
       "  </tbody>\n",
       "</table>\n",
       "</div>"
      ]
     },
     "execution_count": 6,
     "metadata": {},
     "output_type": "execute_result"
    }
   ],
   "execution_count": 6
  },
  {
   "metadata": {},
   "cell_type": "markdown",
   "source": "## Load",
   "id": "f11f4cd4fd25933b"
  },
  {
   "metadata": {
    "ExecuteTime": {
     "end_time": "2025-06-13T08:03:10.646453Z",
     "start_time": "2025-06-13T08:03:10.631244Z"
    }
   },
   "cell_type": "code",
   "source": "df_event_editions.to_csv('csv_files/event_editions_data.csv', index=False)",
   "id": "8accec9998613d27",
   "outputs": [],
   "execution_count": 7
  }
 ],
 "metadata": {
  "kernelspec": {
   "display_name": "Python 3",
   "language": "python",
   "name": "python3"
  },
  "language_info": {
   "codemirror_mode": {
    "name": "ipython",
    "version": 2
   },
   "file_extension": ".py",
   "mimetype": "text/x-python",
   "name": "python",
   "nbconvert_exporter": "python",
   "pygments_lexer": "ipython2",
   "version": "2.7.6"
  }
 },
 "nbformat": 4,
 "nbformat_minor": 5
}
