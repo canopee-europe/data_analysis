{
 "cells": [
  {
   "cell_type": "code",
   "id": "initial_id",
   "metadata": {
    "collapsed": true,
    "ExecuteTime": {
     "end_time": "2025-06-19T07:46:58.726610Z",
     "start_time": "2025-06-19T07:46:58.350141Z"
    }
   },
   "source": [
    "import asyncio\n",
    "from datetime import datetime, timedelta\n",
    "from random import randint\n",
    "\n",
    "import pandas as pd"
   ],
   "outputs": [],
   "execution_count": 8
  },
  {
   "metadata": {
    "ExecuteTime": {
     "end_time": "2025-06-19T08:23:22.980637Z",
     "start_time": "2025-06-19T08:23:22.954252Z"
    }
   },
   "cell_type": "code",
   "source": [
    "# Generate three months dates\n",
    "\n",
    "start_date = datetime(2025, 3, 1)\n",
    "end_date = datetime(2025, 6, 1)\n",
    "delta = timedelta(days=1)\n",
    "\n",
    "dates = []\n",
    "\n",
    "while start_date <= end_date:\n",
    "    dates.append(start_date)\n",
    "    start_date += delta\n",
    "\n",
    "values = []\n",
    "current_value = randint(1, 10)\n",
    "\n",
    "for _ in dates:\n",
    "    values.append(current_value)\n",
    "    current_value += randint(3, 10)\n",
    "\n",
    "data = list(zip(dates, values))\n",
    "data\n"
   ],
   "id": "aa095fa8e9f9ee70",
   "outputs": [
    {
     "data": {
      "text/plain": [
       "[(datetime.datetime(2025, 3, 1, 0, 0), 4),\n",
       " (datetime.datetime(2025, 3, 2, 0, 0), 14),\n",
       " (datetime.datetime(2025, 3, 3, 0, 0), 22),\n",
       " (datetime.datetime(2025, 3, 4, 0, 0), 32),\n",
       " (datetime.datetime(2025, 3, 5, 0, 0), 39),\n",
       " (datetime.datetime(2025, 3, 6, 0, 0), 46),\n",
       " (datetime.datetime(2025, 3, 7, 0, 0), 51),\n",
       " (datetime.datetime(2025, 3, 8, 0, 0), 55),\n",
       " (datetime.datetime(2025, 3, 9, 0, 0), 63),\n",
       " (datetime.datetime(2025, 3, 10, 0, 0), 73),\n",
       " (datetime.datetime(2025, 3, 11, 0, 0), 83),\n",
       " (datetime.datetime(2025, 3, 12, 0, 0), 87),\n",
       " (datetime.datetime(2025, 3, 13, 0, 0), 92),\n",
       " (datetime.datetime(2025, 3, 14, 0, 0), 102),\n",
       " (datetime.datetime(2025, 3, 15, 0, 0), 106),\n",
       " (datetime.datetime(2025, 3, 16, 0, 0), 114),\n",
       " (datetime.datetime(2025, 3, 17, 0, 0), 121),\n",
       " (datetime.datetime(2025, 3, 18, 0, 0), 124),\n",
       " (datetime.datetime(2025, 3, 19, 0, 0), 129),\n",
       " (datetime.datetime(2025, 3, 20, 0, 0), 135),\n",
       " (datetime.datetime(2025, 3, 21, 0, 0), 138),\n",
       " (datetime.datetime(2025, 3, 22, 0, 0), 145),\n",
       " (datetime.datetime(2025, 3, 23, 0, 0), 150),\n",
       " (datetime.datetime(2025, 3, 24, 0, 0), 159),\n",
       " (datetime.datetime(2025, 3, 25, 0, 0), 164),\n",
       " (datetime.datetime(2025, 3, 26, 0, 0), 172),\n",
       " (datetime.datetime(2025, 3, 27, 0, 0), 177),\n",
       " (datetime.datetime(2025, 3, 28, 0, 0), 187),\n",
       " (datetime.datetime(2025, 3, 29, 0, 0), 190),\n",
       " (datetime.datetime(2025, 3, 30, 0, 0), 197),\n",
       " (datetime.datetime(2025, 3, 31, 0, 0), 203),\n",
       " (datetime.datetime(2025, 4, 1, 0, 0), 210),\n",
       " (datetime.datetime(2025, 4, 2, 0, 0), 219),\n",
       " (datetime.datetime(2025, 4, 3, 0, 0), 222),\n",
       " (datetime.datetime(2025, 4, 4, 0, 0), 227),\n",
       " (datetime.datetime(2025, 4, 5, 0, 0), 237),\n",
       " (datetime.datetime(2025, 4, 6, 0, 0), 244),\n",
       " (datetime.datetime(2025, 4, 7, 0, 0), 253),\n",
       " (datetime.datetime(2025, 4, 8, 0, 0), 262),\n",
       " (datetime.datetime(2025, 4, 9, 0, 0), 271),\n",
       " (datetime.datetime(2025, 4, 10, 0, 0), 277),\n",
       " (datetime.datetime(2025, 4, 11, 0, 0), 283),\n",
       " (datetime.datetime(2025, 4, 12, 0, 0), 293),\n",
       " (datetime.datetime(2025, 4, 13, 0, 0), 300),\n",
       " (datetime.datetime(2025, 4, 14, 0, 0), 309),\n",
       " (datetime.datetime(2025, 4, 15, 0, 0), 315),\n",
       " (datetime.datetime(2025, 4, 16, 0, 0), 325),\n",
       " (datetime.datetime(2025, 4, 17, 0, 0), 332),\n",
       " (datetime.datetime(2025, 4, 18, 0, 0), 335),\n",
       " (datetime.datetime(2025, 4, 19, 0, 0), 345),\n",
       " (datetime.datetime(2025, 4, 20, 0, 0), 349),\n",
       " (datetime.datetime(2025, 4, 21, 0, 0), 353),\n",
       " (datetime.datetime(2025, 4, 22, 0, 0), 356),\n",
       " (datetime.datetime(2025, 4, 23, 0, 0), 362),\n",
       " (datetime.datetime(2025, 4, 24, 0, 0), 368),\n",
       " (datetime.datetime(2025, 4, 25, 0, 0), 375),\n",
       " (datetime.datetime(2025, 4, 26, 0, 0), 378),\n",
       " (datetime.datetime(2025, 4, 27, 0, 0), 386),\n",
       " (datetime.datetime(2025, 4, 28, 0, 0), 390),\n",
       " (datetime.datetime(2025, 4, 29, 0, 0), 399),\n",
       " (datetime.datetime(2025, 4, 30, 0, 0), 407),\n",
       " (datetime.datetime(2025, 5, 1, 0, 0), 412),\n",
       " (datetime.datetime(2025, 5, 2, 0, 0), 415),\n",
       " (datetime.datetime(2025, 5, 3, 0, 0), 422),\n",
       " (datetime.datetime(2025, 5, 4, 0, 0), 428),\n",
       " (datetime.datetime(2025, 5, 5, 0, 0), 435),\n",
       " (datetime.datetime(2025, 5, 6, 0, 0), 443),\n",
       " (datetime.datetime(2025, 5, 7, 0, 0), 452),\n",
       " (datetime.datetime(2025, 5, 8, 0, 0), 458),\n",
       " (datetime.datetime(2025, 5, 9, 0, 0), 462),\n",
       " (datetime.datetime(2025, 5, 10, 0, 0), 469),\n",
       " (datetime.datetime(2025, 5, 11, 0, 0), 474),\n",
       " (datetime.datetime(2025, 5, 12, 0, 0), 481),\n",
       " (datetime.datetime(2025, 5, 13, 0, 0), 485),\n",
       " (datetime.datetime(2025, 5, 14, 0, 0), 490),\n",
       " (datetime.datetime(2025, 5, 15, 0, 0), 493),\n",
       " (datetime.datetime(2025, 5, 16, 0, 0), 496),\n",
       " (datetime.datetime(2025, 5, 17, 0, 0), 506),\n",
       " (datetime.datetime(2025, 5, 18, 0, 0), 516),\n",
       " (datetime.datetime(2025, 5, 19, 0, 0), 520),\n",
       " (datetime.datetime(2025, 5, 20, 0, 0), 525),\n",
       " (datetime.datetime(2025, 5, 21, 0, 0), 532),\n",
       " (datetime.datetime(2025, 5, 22, 0, 0), 536),\n",
       " (datetime.datetime(2025, 5, 23, 0, 0), 544),\n",
       " (datetime.datetime(2025, 5, 24, 0, 0), 551),\n",
       " (datetime.datetime(2025, 5, 25, 0, 0), 557),\n",
       " (datetime.datetime(2025, 5, 26, 0, 0), 565),\n",
       " (datetime.datetime(2025, 5, 27, 0, 0), 569),\n",
       " (datetime.datetime(2025, 5, 28, 0, 0), 576),\n",
       " (datetime.datetime(2025, 5, 29, 0, 0), 582),\n",
       " (datetime.datetime(2025, 5, 30, 0, 0), 587),\n",
       " (datetime.datetime(2025, 5, 31, 0, 0), 597),\n",
       " (datetime.datetime(2025, 6, 1, 0, 0), 600)]"
      ]
     },
     "execution_count": 44,
     "metadata": {},
     "output_type": "execute_result"
    }
   ],
   "execution_count": 44
  },
  {
   "metadata": {
    "ExecuteTime": {
     "end_time": "2025-06-19T08:23:24.910752Z",
     "start_time": "2025-06-19T08:23:24.897690Z"
    }
   },
   "cell_type": "code",
   "source": [
    "df = pd.DataFrame(data, columns=[\"date\", \"value\"])\n",
    "df"
   ],
   "id": "f7ba1704d02347fc",
   "outputs": [
    {
     "data": {
      "text/plain": [
       "         date  value\n",
       "0  2025-03-01      4\n",
       "1  2025-03-02     14\n",
       "2  2025-03-03     22\n",
       "3  2025-03-04     32\n",
       "4  2025-03-05     39\n",
       "..        ...    ...\n",
       "88 2025-05-28    576\n",
       "89 2025-05-29    582\n",
       "90 2025-05-30    587\n",
       "91 2025-05-31    597\n",
       "92 2025-06-01    600\n",
       "\n",
       "[93 rows x 2 columns]"
      ],
      "text/html": [
       "<div>\n",
       "<style scoped>\n",
       "    .dataframe tbody tr th:only-of-type {\n",
       "        vertical-align: middle;\n",
       "    }\n",
       "\n",
       "    .dataframe tbody tr th {\n",
       "        vertical-align: top;\n",
       "    }\n",
       "\n",
       "    .dataframe thead th {\n",
       "        text-align: right;\n",
       "    }\n",
       "</style>\n",
       "<table border=\"1\" class=\"dataframe\">\n",
       "  <thead>\n",
       "    <tr style=\"text-align: right;\">\n",
       "      <th></th>\n",
       "      <th>date</th>\n",
       "      <th>value</th>\n",
       "    </tr>\n",
       "  </thead>\n",
       "  <tbody>\n",
       "    <tr>\n",
       "      <th>0</th>\n",
       "      <td>2025-03-01</td>\n",
       "      <td>4</td>\n",
       "    </tr>\n",
       "    <tr>\n",
       "      <th>1</th>\n",
       "      <td>2025-03-02</td>\n",
       "      <td>14</td>\n",
       "    </tr>\n",
       "    <tr>\n",
       "      <th>2</th>\n",
       "      <td>2025-03-03</td>\n",
       "      <td>22</td>\n",
       "    </tr>\n",
       "    <tr>\n",
       "      <th>3</th>\n",
       "      <td>2025-03-04</td>\n",
       "      <td>32</td>\n",
       "    </tr>\n",
       "    <tr>\n",
       "      <th>4</th>\n",
       "      <td>2025-03-05</td>\n",
       "      <td>39</td>\n",
       "    </tr>\n",
       "    <tr>\n",
       "      <th>...</th>\n",
       "      <td>...</td>\n",
       "      <td>...</td>\n",
       "    </tr>\n",
       "    <tr>\n",
       "      <th>88</th>\n",
       "      <td>2025-05-28</td>\n",
       "      <td>576</td>\n",
       "    </tr>\n",
       "    <tr>\n",
       "      <th>89</th>\n",
       "      <td>2025-05-29</td>\n",
       "      <td>582</td>\n",
       "    </tr>\n",
       "    <tr>\n",
       "      <th>90</th>\n",
       "      <td>2025-05-30</td>\n",
       "      <td>587</td>\n",
       "    </tr>\n",
       "    <tr>\n",
       "      <th>91</th>\n",
       "      <td>2025-05-31</td>\n",
       "      <td>597</td>\n",
       "    </tr>\n",
       "    <tr>\n",
       "      <th>92</th>\n",
       "      <td>2025-06-01</td>\n",
       "      <td>600</td>\n",
       "    </tr>\n",
       "  </tbody>\n",
       "</table>\n",
       "<p>93 rows × 2 columns</p>\n",
       "</div>"
      ]
     },
     "execution_count": 45,
     "metadata": {},
     "output_type": "execute_result"
    }
   ],
   "execution_count": 45
  },
  {
   "metadata": {
    "ExecuteTime": {
     "end_time": "2025-06-19T08:23:28.244200Z",
     "start_time": "2025-06-19T08:23:28.230937Z"
    }
   },
   "cell_type": "code",
   "source": [
    "df['month'] = df['date'].dt.month_name()\n",
    "df"
   ],
   "id": "284a8a32027b5106",
   "outputs": [
    {
     "data": {
      "text/plain": [
       "         date  value  month\n",
       "0  2025-03-01      4  March\n",
       "1  2025-03-02     14  March\n",
       "2  2025-03-03     22  March\n",
       "3  2025-03-04     32  March\n",
       "4  2025-03-05     39  March\n",
       "..        ...    ...    ...\n",
       "88 2025-05-28    576    May\n",
       "89 2025-05-29    582    May\n",
       "90 2025-05-30    587    May\n",
       "91 2025-05-31    597    May\n",
       "92 2025-06-01    600   June\n",
       "\n",
       "[93 rows x 3 columns]"
      ],
      "text/html": [
       "<div>\n",
       "<style scoped>\n",
       "    .dataframe tbody tr th:only-of-type {\n",
       "        vertical-align: middle;\n",
       "    }\n",
       "\n",
       "    .dataframe tbody tr th {\n",
       "        vertical-align: top;\n",
       "    }\n",
       "\n",
       "    .dataframe thead th {\n",
       "        text-align: right;\n",
       "    }\n",
       "</style>\n",
       "<table border=\"1\" class=\"dataframe\">\n",
       "  <thead>\n",
       "    <tr style=\"text-align: right;\">\n",
       "      <th></th>\n",
       "      <th>date</th>\n",
       "      <th>value</th>\n",
       "      <th>month</th>\n",
       "    </tr>\n",
       "  </thead>\n",
       "  <tbody>\n",
       "    <tr>\n",
       "      <th>0</th>\n",
       "      <td>2025-03-01</td>\n",
       "      <td>4</td>\n",
       "      <td>March</td>\n",
       "    </tr>\n",
       "    <tr>\n",
       "      <th>1</th>\n",
       "      <td>2025-03-02</td>\n",
       "      <td>14</td>\n",
       "      <td>March</td>\n",
       "    </tr>\n",
       "    <tr>\n",
       "      <th>2</th>\n",
       "      <td>2025-03-03</td>\n",
       "      <td>22</td>\n",
       "      <td>March</td>\n",
       "    </tr>\n",
       "    <tr>\n",
       "      <th>3</th>\n",
       "      <td>2025-03-04</td>\n",
       "      <td>32</td>\n",
       "      <td>March</td>\n",
       "    </tr>\n",
       "    <tr>\n",
       "      <th>4</th>\n",
       "      <td>2025-03-05</td>\n",
       "      <td>39</td>\n",
       "      <td>March</td>\n",
       "    </tr>\n",
       "    <tr>\n",
       "      <th>...</th>\n",
       "      <td>...</td>\n",
       "      <td>...</td>\n",
       "      <td>...</td>\n",
       "    </tr>\n",
       "    <tr>\n",
       "      <th>88</th>\n",
       "      <td>2025-05-28</td>\n",
       "      <td>576</td>\n",
       "      <td>May</td>\n",
       "    </tr>\n",
       "    <tr>\n",
       "      <th>89</th>\n",
       "      <td>2025-05-29</td>\n",
       "      <td>582</td>\n",
       "      <td>May</td>\n",
       "    </tr>\n",
       "    <tr>\n",
       "      <th>90</th>\n",
       "      <td>2025-05-30</td>\n",
       "      <td>587</td>\n",
       "      <td>May</td>\n",
       "    </tr>\n",
       "    <tr>\n",
       "      <th>91</th>\n",
       "      <td>2025-05-31</td>\n",
       "      <td>597</td>\n",
       "      <td>May</td>\n",
       "    </tr>\n",
       "    <tr>\n",
       "      <th>92</th>\n",
       "      <td>2025-06-01</td>\n",
       "      <td>600</td>\n",
       "      <td>June</td>\n",
       "    </tr>\n",
       "  </tbody>\n",
       "</table>\n",
       "<p>93 rows × 3 columns</p>\n",
       "</div>"
      ]
     },
     "execution_count": 46,
     "metadata": {},
     "output_type": "execute_result"
    }
   ],
   "execution_count": 46
  },
  {
   "metadata": {
    "ExecuteTime": {
     "end_time": "2025-06-19T08:23:30.674075Z",
     "start_time": "2025-06-19T08:23:30.656535Z"
    }
   },
   "cell_type": "code",
   "source": [
    "df['number_of_week'] = df['date'].dt.isocalendar().week\n",
    "df"
   ],
   "id": "7571c0f2c6ee7d1f",
   "outputs": [
    {
     "data": {
      "text/plain": [
       "         date  value  month  number_of_week\n",
       "0  2025-03-01      4  March               9\n",
       "1  2025-03-02     14  March               9\n",
       "2  2025-03-03     22  March              10\n",
       "3  2025-03-04     32  March              10\n",
       "4  2025-03-05     39  March              10\n",
       "..        ...    ...    ...             ...\n",
       "88 2025-05-28    576    May              22\n",
       "89 2025-05-29    582    May              22\n",
       "90 2025-05-30    587    May              22\n",
       "91 2025-05-31    597    May              22\n",
       "92 2025-06-01    600   June              22\n",
       "\n",
       "[93 rows x 4 columns]"
      ],
      "text/html": [
       "<div>\n",
       "<style scoped>\n",
       "    .dataframe tbody tr th:only-of-type {\n",
       "        vertical-align: middle;\n",
       "    }\n",
       "\n",
       "    .dataframe tbody tr th {\n",
       "        vertical-align: top;\n",
       "    }\n",
       "\n",
       "    .dataframe thead th {\n",
       "        text-align: right;\n",
       "    }\n",
       "</style>\n",
       "<table border=\"1\" class=\"dataframe\">\n",
       "  <thead>\n",
       "    <tr style=\"text-align: right;\">\n",
       "      <th></th>\n",
       "      <th>date</th>\n",
       "      <th>value</th>\n",
       "      <th>month</th>\n",
       "      <th>number_of_week</th>\n",
       "    </tr>\n",
       "  </thead>\n",
       "  <tbody>\n",
       "    <tr>\n",
       "      <th>0</th>\n",
       "      <td>2025-03-01</td>\n",
       "      <td>4</td>\n",
       "      <td>March</td>\n",
       "      <td>9</td>\n",
       "    </tr>\n",
       "    <tr>\n",
       "      <th>1</th>\n",
       "      <td>2025-03-02</td>\n",
       "      <td>14</td>\n",
       "      <td>March</td>\n",
       "      <td>9</td>\n",
       "    </tr>\n",
       "    <tr>\n",
       "      <th>2</th>\n",
       "      <td>2025-03-03</td>\n",
       "      <td>22</td>\n",
       "      <td>March</td>\n",
       "      <td>10</td>\n",
       "    </tr>\n",
       "    <tr>\n",
       "      <th>3</th>\n",
       "      <td>2025-03-04</td>\n",
       "      <td>32</td>\n",
       "      <td>March</td>\n",
       "      <td>10</td>\n",
       "    </tr>\n",
       "    <tr>\n",
       "      <th>4</th>\n",
       "      <td>2025-03-05</td>\n",
       "      <td>39</td>\n",
       "      <td>March</td>\n",
       "      <td>10</td>\n",
       "    </tr>\n",
       "    <tr>\n",
       "      <th>...</th>\n",
       "      <td>...</td>\n",
       "      <td>...</td>\n",
       "      <td>...</td>\n",
       "      <td>...</td>\n",
       "    </tr>\n",
       "    <tr>\n",
       "      <th>88</th>\n",
       "      <td>2025-05-28</td>\n",
       "      <td>576</td>\n",
       "      <td>May</td>\n",
       "      <td>22</td>\n",
       "    </tr>\n",
       "    <tr>\n",
       "      <th>89</th>\n",
       "      <td>2025-05-29</td>\n",
       "      <td>582</td>\n",
       "      <td>May</td>\n",
       "      <td>22</td>\n",
       "    </tr>\n",
       "    <tr>\n",
       "      <th>90</th>\n",
       "      <td>2025-05-30</td>\n",
       "      <td>587</td>\n",
       "      <td>May</td>\n",
       "      <td>22</td>\n",
       "    </tr>\n",
       "    <tr>\n",
       "      <th>91</th>\n",
       "      <td>2025-05-31</td>\n",
       "      <td>597</td>\n",
       "      <td>May</td>\n",
       "      <td>22</td>\n",
       "    </tr>\n",
       "    <tr>\n",
       "      <th>92</th>\n",
       "      <td>2025-06-01</td>\n",
       "      <td>600</td>\n",
       "      <td>June</td>\n",
       "      <td>22</td>\n",
       "    </tr>\n",
       "  </tbody>\n",
       "</table>\n",
       "<p>93 rows × 4 columns</p>\n",
       "</div>"
      ]
     },
     "execution_count": 47,
     "metadata": {},
     "output_type": "execute_result"
    }
   ],
   "execution_count": 47
  },
  {
   "metadata": {
    "ExecuteTime": {
     "end_time": "2025-06-19T08:01:05.147250Z",
     "start_time": "2025-06-19T08:01:05.132966Z"
    }
   },
   "cell_type": "code",
   "source": "df.to_csv('csv_files/datagen_inscriptions.csv', index=False)",
   "id": "a4fb8ac418d1decf",
   "outputs": [],
   "execution_count": 30
  },
  {
   "metadata": {
    "ExecuteTime": {
     "end_time": "2025-06-23T09:06:42.830500Z",
     "start_time": "2025-06-23T09:06:42.822441Z"
    }
   },
   "cell_type": "code",
   "source": [
    "def affiche(a: int, b: int) -> int :\n",
    "    return a + b"
   ],
   "id": "dd7ea8126341bb38",
   "outputs": [],
   "execution_count": 4
  },
  {
   "metadata": {
    "ExecuteTime": {
     "end_time": "2025-06-23T09:06:46.381146Z",
     "start_time": "2025-06-23T09:06:46.374299Z"
    }
   },
   "cell_type": "code",
   "source": "affiche(2, 5)",
   "id": "744e4b7e17579fe",
   "outputs": [
    {
     "data": {
      "text/plain": [
       "7"
      ]
     },
     "execution_count": 5,
     "metadata": {},
     "output_type": "execute_result"
    }
   ],
   "execution_count": 5
  },
  {
   "metadata": {
    "ExecuteTime": {
     "end_time": "2025-06-23T12:50:27.362417Z",
     "start_time": "2025-06-23T12:50:27.319023Z"
    }
   },
   "cell_type": "code",
   "source": [
    "x = \"Hello\"\n",
    "assert x == \"goodbye\""
   ],
   "id": "d4125db686fb24b6",
   "outputs": [
    {
     "ename": "AssertionError",
     "evalue": "",
     "output_type": "error",
     "traceback": [
      "\u001B[31m---------------------------------------------------------------------------\u001B[39m",
      "\u001B[31mAssertionError\u001B[39m                            Traceback (most recent call last)",
      "\u001B[36mCell\u001B[39m\u001B[36m \u001B[39m\u001B[32mIn[8]\u001B[39m\u001B[32m, line 2\u001B[39m\n\u001B[32m      1\u001B[39m x = \u001B[33m\"\u001B[39m\u001B[33mHello\u001B[39m\u001B[33m\"\u001B[39m\n\u001B[32m----> \u001B[39m\u001B[32m2\u001B[39m \u001B[38;5;28;01massert\u001B[39;00m x == \u001B[33m\"\u001B[39m\u001B[33mgoodbye\u001B[39m\u001B[33m\"\u001B[39m\n",
      "\u001B[31mAssertionError\u001B[39m: "
     ]
    }
   ],
   "execution_count": 8
  },
  {
   "metadata": {
    "ExecuteTime": {
     "end_time": "2025-06-23T13:03:13.413049Z",
     "start_time": "2025-06-23T13:03:13.408110Z"
    }
   },
   "cell_type": "code",
   "source": [
    "x = \"sdd\"\n",
    "\n",
    "try :\n",
    "    res = isinstance(x, int)\n",
    "    print(\"res is an integer\")\n",
    "except TypeError:\n",
    "    print(\"res is not an integer\")\n"
   ],
   "id": "779eab6993a7d195",
   "outputs": [
    {
     "name": "stdout",
     "output_type": "stream",
     "text": [
      "res is an integer\n"
     ]
    }
   ],
   "execution_count": 14
  }
 ],
 "metadata": {
  "kernelspec": {
   "display_name": "Python 3",
   "language": "python",
   "name": "python3"
  },
  "language_info": {
   "codemirror_mode": {
    "name": "ipython",
    "version": 2
   },
   "file_extension": ".py",
   "mimetype": "text/x-python",
   "name": "python",
   "nbconvert_exporter": "python",
   "pygments_lexer": "ipython2",
   "version": "2.7.6"
  }
 },
 "nbformat": 4,
 "nbformat_minor": 5
}
