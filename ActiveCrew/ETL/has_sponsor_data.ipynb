{
 "cells": [
  {
   "cell_type": "code",
   "id": "initial_id",
   "metadata": {
    "collapsed": true,
    "ExecuteTime": {
     "end_time": "2025-06-09T12:58:06.955957Z",
     "start_time": "2025-06-09T12:58:06.944867Z"
    }
   },
   "source": [
    "import requests\n",
    "import pandas as pd\n",
    "import config"
   ],
   "outputs": [],
   "execution_count": 3
  },
  {
   "metadata": {},
   "cell_type": "markdown",
   "source": "## Extract",
   "id": "bb4855511def9c90"
  },
  {
   "metadata": {
    "ExecuteTime": {
     "end_time": "2025-06-09T12:58:08.741918Z",
     "start_time": "2025-06-09T12:58:08.409813Z"
    }
   },
   "cell_type": "code",
   "source": [
    "has_sponsor_url = \"https://dashboard.activcreew.app/api/has-sponsor\"\n",
    "response_has_sponsor = requests.get(has_sponsor_url, headers=config.my_headers)\n",
    "has_sponsor_data = response_has_sponsor.json()[\"data\"]\n",
    "has_sponsor_df = pd.DataFrame(has_sponsor_data)\n",
    "has_sponsor_df"
   ],
   "id": "76457d7c5196647e",
   "outputs": [
    {
     "data": {
      "text/plain": [
       "Empty DataFrame\n",
       "Columns: []\n",
       "Index: []"
      ],
      "text/html": [
       "<div>\n",
       "<style scoped>\n",
       "    .dataframe tbody tr th:only-of-type {\n",
       "        vertical-align: middle;\n",
       "    }\n",
       "\n",
       "    .dataframe tbody tr th {\n",
       "        vertical-align: top;\n",
       "    }\n",
       "\n",
       "    .dataframe thead th {\n",
       "        text-align: right;\n",
       "    }\n",
       "</style>\n",
       "<table border=\"1\" class=\"dataframe\">\n",
       "  <thead>\n",
       "    <tr style=\"text-align: right;\">\n",
       "      <th></th>\n",
       "    </tr>\n",
       "  </thead>\n",
       "  <tbody>\n",
       "  </tbody>\n",
       "</table>\n",
       "</div>"
      ]
     },
     "execution_count": 4,
     "metadata": {},
     "output_type": "execute_result"
    }
   ],
   "execution_count": 4
  }
 ],
 "metadata": {
  "kernelspec": {
   "display_name": "Python 3",
   "language": "python",
   "name": "python3"
  },
  "language_info": {
   "codemirror_mode": {
    "name": "ipython",
    "version": 2
   },
   "file_extension": ".py",
   "mimetype": "text/x-python",
   "name": "python",
   "nbconvert_exporter": "python",
   "pygments_lexer": "ipython2",
   "version": "2.7.6"
  }
 },
 "nbformat": 4,
 "nbformat_minor": 5
}
