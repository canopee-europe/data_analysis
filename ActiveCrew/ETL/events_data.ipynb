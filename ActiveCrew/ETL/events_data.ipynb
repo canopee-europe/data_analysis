{
 "cells": [
  {
   "cell_type": "code",
   "id": "initial_id",
   "metadata": {
    "collapsed": true,
    "ExecuteTime": {
     "end_time": "2025-06-13T08:03:44.137239Z",
     "start_time": "2025-06-13T08:03:43.712046Z"
    }
   },
   "source": [
    "import pandas as pd\n",
    "import requests\n",
    "import config"
   ],
   "outputs": [],
   "execution_count": 1
  },
  {
   "metadata": {},
   "cell_type": "markdown",
   "source": "## Extract",
   "id": "80c2eaad37dbd32"
  },
  {
   "metadata": {
    "ExecuteTime": {
     "end_time": "2025-06-13T08:04:11.199282Z",
     "start_time": "2025-06-13T08:04:10.798330Z"
    }
   },
   "cell_type": "code",
   "source": [
    "events_url = \"https://dashboard.activcreew.app/api/events?fields=id, name&populate[association][fields]=id, name\"\n",
    "response_events = requests.get(events_url, headers=config.my_headers)\n",
    "events_data = response_events.json()[\"data\"]\n",
    "df_events = pd.DataFrame(events_data)\n",
    "df_events"
   ],
   "id": "23a2038310f47750",
   "outputs": [
    {
     "data": {
      "text/plain": [
       "   id                documentId                      name  \\\n",
       "0   6  h4e8nx3mnj9fmd22983hg07x  Marathon du lac d'Annecy   \n",
       "\n",
       "                                         association  \n",
       "0  {'id': 235, 'documentId': 'ryhvfn988exusutyfgp...  "
      ],
      "text/html": [
       "<div>\n",
       "<style scoped>\n",
       "    .dataframe tbody tr th:only-of-type {\n",
       "        vertical-align: middle;\n",
       "    }\n",
       "\n",
       "    .dataframe tbody tr th {\n",
       "        vertical-align: top;\n",
       "    }\n",
       "\n",
       "    .dataframe thead th {\n",
       "        text-align: right;\n",
       "    }\n",
       "</style>\n",
       "<table border=\"1\" class=\"dataframe\">\n",
       "  <thead>\n",
       "    <tr style=\"text-align: right;\">\n",
       "      <th></th>\n",
       "      <th>id</th>\n",
       "      <th>documentId</th>\n",
       "      <th>name</th>\n",
       "      <th>association</th>\n",
       "    </tr>\n",
       "  </thead>\n",
       "  <tbody>\n",
       "    <tr>\n",
       "      <th>0</th>\n",
       "      <td>6</td>\n",
       "      <td>h4e8nx3mnj9fmd22983hg07x</td>\n",
       "      <td>Marathon du lac d'Annecy</td>\n",
       "      <td>{'id': 235, 'documentId': 'ryhvfn988exusutyfgp...</td>\n",
       "    </tr>\n",
       "  </tbody>\n",
       "</table>\n",
       "</div>"
      ]
     },
     "execution_count": 4,
     "metadata": {},
     "output_type": "execute_result"
    }
   ],
   "execution_count": 4
  },
  {
   "metadata": {},
   "cell_type": "markdown",
   "source": "## Transform",
   "id": "264e4deeef160bab"
  },
  {
   "metadata": {
    "ExecuteTime": {
     "end_time": "2025-06-13T08:04:13.768886Z",
     "start_time": "2025-06-13T08:04:13.755188Z"
    }
   },
   "cell_type": "code",
   "source": [
    "# Get fields from columns dicts\n",
    "df_events[\"association_id\"] = df_events[\"association\"].apply(lambda x: x.get(\"id\"))\n",
    "df_events[\"association_name\"] = df_events[\"association\"].apply(lambda x: x.get(\"name\"))\n",
    "df_events"
   ],
   "id": "4bc19bd6c6f597dd",
   "outputs": [
    {
     "data": {
      "text/plain": [
       "   id                documentId                      name  \\\n",
       "0   6  h4e8nx3mnj9fmd22983hg07x  Marathon du lac d'Annecy   \n",
       "\n",
       "                                         association  association_id  \\\n",
       "0  {'id': 235, 'documentId': 'ryhvfn988exusutyfgp...             235   \n",
       "\n",
       "  association_name  \n",
       "0             AHSA  "
      ],
      "text/html": [
       "<div>\n",
       "<style scoped>\n",
       "    .dataframe tbody tr th:only-of-type {\n",
       "        vertical-align: middle;\n",
       "    }\n",
       "\n",
       "    .dataframe tbody tr th {\n",
       "        vertical-align: top;\n",
       "    }\n",
       "\n",
       "    .dataframe thead th {\n",
       "        text-align: right;\n",
       "    }\n",
       "</style>\n",
       "<table border=\"1\" class=\"dataframe\">\n",
       "  <thead>\n",
       "    <tr style=\"text-align: right;\">\n",
       "      <th></th>\n",
       "      <th>id</th>\n",
       "      <th>documentId</th>\n",
       "      <th>name</th>\n",
       "      <th>association</th>\n",
       "      <th>association_id</th>\n",
       "      <th>association_name</th>\n",
       "    </tr>\n",
       "  </thead>\n",
       "  <tbody>\n",
       "    <tr>\n",
       "      <th>0</th>\n",
       "      <td>6</td>\n",
       "      <td>h4e8nx3mnj9fmd22983hg07x</td>\n",
       "      <td>Marathon du lac d'Annecy</td>\n",
       "      <td>{'id': 235, 'documentId': 'ryhvfn988exusutyfgp...</td>\n",
       "      <td>235</td>\n",
       "      <td>AHSA</td>\n",
       "    </tr>\n",
       "  </tbody>\n",
       "</table>\n",
       "</div>"
      ]
     },
     "execution_count": 5,
     "metadata": {},
     "output_type": "execute_result"
    }
   ],
   "execution_count": 5
  },
  {
   "metadata": {
    "ExecuteTime": {
     "end_time": "2025-06-13T08:04:22.552244Z",
     "start_time": "2025-06-13T08:04:22.542695Z"
    }
   },
   "cell_type": "code",
   "source": [
    "# Drop useless columns\n",
    "df_events = df_events.drop(columns=[\"documentId\", \"association\"])\n",
    "df_events"
   ],
   "id": "588feae83cda2f",
   "outputs": [
    {
     "data": {
      "text/plain": [
       "   id                      name  association_id association_name\n",
       "0   6  Marathon du lac d'Annecy             235             AHSA"
      ],
      "text/html": [
       "<div>\n",
       "<style scoped>\n",
       "    .dataframe tbody tr th:only-of-type {\n",
       "        vertical-align: middle;\n",
       "    }\n",
       "\n",
       "    .dataframe tbody tr th {\n",
       "        vertical-align: top;\n",
       "    }\n",
       "\n",
       "    .dataframe thead th {\n",
       "        text-align: right;\n",
       "    }\n",
       "</style>\n",
       "<table border=\"1\" class=\"dataframe\">\n",
       "  <thead>\n",
       "    <tr style=\"text-align: right;\">\n",
       "      <th></th>\n",
       "      <th>id</th>\n",
       "      <th>name</th>\n",
       "      <th>association_id</th>\n",
       "      <th>association_name</th>\n",
       "    </tr>\n",
       "  </thead>\n",
       "  <tbody>\n",
       "    <tr>\n",
       "      <th>0</th>\n",
       "      <td>6</td>\n",
       "      <td>Marathon du lac d'Annecy</td>\n",
       "      <td>235</td>\n",
       "      <td>AHSA</td>\n",
       "    </tr>\n",
       "  </tbody>\n",
       "</table>\n",
       "</div>"
      ]
     },
     "execution_count": 6,
     "metadata": {},
     "output_type": "execute_result"
    }
   ],
   "execution_count": 6
  },
  {
   "metadata": {},
   "cell_type": "markdown",
   "source": "## Load",
   "id": "d47aa7425893ed13"
  },
  {
   "metadata": {
    "ExecuteTime": {
     "end_time": "2025-06-13T08:04:27.583936Z",
     "start_time": "2025-06-13T08:04:27.567976Z"
    }
   },
   "cell_type": "code",
   "source": "df_events.to_csv(\"csv_files/events_data.csv\", index=False)",
   "id": "eeb5db173178f661",
   "outputs": [],
   "execution_count": 7
  }
 ],
 "metadata": {
  "kernelspec": {
   "display_name": "Python 3",
   "language": "python",
   "name": "python3"
  },
  "language_info": {
   "codemirror_mode": {
    "name": "ipython",
    "version": 2
   },
   "file_extension": ".py",
   "mimetype": "text/x-python",
   "name": "python",
   "nbconvert_exporter": "python",
   "pygments_lexer": "ipython2",
   "version": "2.7.6"
  }
 },
 "nbformat": 4,
 "nbformat_minor": 5
}
